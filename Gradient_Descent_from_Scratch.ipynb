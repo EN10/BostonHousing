{
  "nbformat": 4,
  "nbformat_minor": 0,
  "metadata": {
    "colab": {
      "provenance": [],
      "authorship_tag": "ABX9TyPKj6pZKFannOfDR40H7Toe",
      "include_colab_link": true
    },
    "kernelspec": {
      "name": "python3",
      "display_name": "Python 3"
    },
    "language_info": {
      "name": "python"
    }
  },
  "cells": [
    {
      "cell_type": "markdown",
      "metadata": {
        "id": "view-in-github",
        "colab_type": "text"
      },
      "source": [
        "<a href=\"https://colab.research.google.com/github/eniompw/BostonHousing/blob/main/Gradient_Descent_from_Scratch.ipynb\" target=\"_parent\"><img src=\"https://colab.research.google.com/assets/colab-badge.svg\" alt=\"Open In Colab\"/></a>"
      ]
    },
    {
      "cell_type": "markdown",
      "source": [
        "[Geeks for Geeks](https://www.geeksforgeeks.org/how-to-implement-a-gradient-descent-in-python-to-find-a-local-minimum)"
      ],
      "metadata": {
        "id": "tKbBBn80oCcp"
      }
    },
    {
      "cell_type": "code",
      "source": [
        "# Importing Libraries\n",
        "import numpy as np\n",
        "\n",
        "# Data y = 2x + 1\n",
        "x = np.arange(10)\n",
        "y = 2*x + 1\n",
        "\n",
        "# Print first 10 values\n",
        "print(\"x y\")\n",
        "for i in range(10):\n",
        "\tprint(x[i] , y[i])"
      ],
      "metadata": {
        "colab": {
          "base_uri": "https://localhost:8080/"
        },
        "id": "uOCsrp78oKNh",
        "outputId": "21871e10-1a2e-4cc3-a623-65d7ec7349e4"
      },
      "execution_count": 1,
      "outputs": [
        {
          "output_type": "stream",
          "name": "stdout",
          "text": [
            "x y\n",
            "0 1\n",
            "1 3\n",
            "2 5\n",
            "3 7\n",
            "4 9\n",
            "5 11\n",
            "6 13\n",
            "7 15\n",
            "8 17\n",
            "9 19\n"
          ]
        }
      ]
    },
    {
      "cell_type": "code",
      "source": [
        "def mean_squared_error(y_true, y_predicted):\n",
        "\t# Calculating the loss or cost\n",
        "\tcost = np.sum((y_true-y_predicted)**2) / len(y_true)\n",
        "\treturn cost"
      ],
      "metadata": {
        "id": "z19OR1iAlTRv"
      },
      "execution_count": 2,
      "outputs": []
    },
    {
      "cell_type": "code",
      "execution_count": 3,
      "metadata": {
        "colab": {
          "base_uri": "https://localhost:8080/"
        },
        "id": "8DBxS6Ogip9t",
        "outputId": "ee682c6a-cb49-49d5-8a41-43e14d551d88"
      },
      "outputs": [
        {
          "output_type": "stream",
          "name": "stdout",
          "text": [
            "Estimated Weight: 2.095256837376399\n",
            "Estimated Bias: 0.3659156029575678\n"
          ]
        }
      ],
      "source": [
        "# Gradient Descent Function\n",
        "# Initializing weight, bias, learning rate and iterations\n",
        "weight = 0.1\n",
        "bias = 0.01\n",
        "iterations = 1000\n",
        "learning_rate = 0.0001\n",
        "n = float(len(x))\n",
        "weights = []\n",
        "\n",
        "# Estimation of optimal parameters\n",
        "for i in range(iterations):\n",
        "  \n",
        "  # Making predictions\n",
        "  y_predicted = (weight * x) + bias\n",
        "  \n",
        "  # Calculating the current cost\n",
        "  current_cost = mean_squared_error(y, y_predicted)\n",
        "  weights.append(weight)\n",
        "  \n",
        "  # Calculating the gradients\n",
        "  weight_derivative = -(2/n) * sum(x * (y-y_predicted))\n",
        "  bias_derivative = -(2/n) * sum(y-y_predicted)\n",
        "  \n",
        "  # Updating weights and bias\n",
        "  weight = weight - (learning_rate * weight_derivative)\n",
        "  bias = bias - (learning_rate * bias_derivative)\n",
        "\n",
        "# Estimating weight and bias using gradient descent\n",
        "print(f\"Estimated Weight: {weight}\\nEstimated Bias: {bias}\")"
      ]
    },
    {
      "cell_type": "code",
      "source": [
        "# Visualizing the weights and cost at for all iterations\n",
        "import matplotlib.pyplot as plt\n",
        "plt.figure(figsize = (8,6))\n",
        "plt.plot(weights)\n",
        "plt.xlabel(\"Iterations\")\n",
        "plt.ylabel(\"Weight\")\n",
        "plt.show()"
      ],
      "metadata": {
        "id": "7HhUW1-7fYKJ",
        "outputId": "a9f0003c-5260-44cf-e42b-5bdb635ed9ca",
        "colab": {
          "base_uri": "https://localhost:8080/",
          "height": 388
        }
      },
      "execution_count": 4,
      "outputs": [
        {
          "output_type": "display_data",
          "data": {
            "text/plain": [
              "<Figure size 576x432 with 1 Axes>"
            ],
            "image/png": "[encoded data removed]"
          },
          "metadata": {
            "needs_background": "light"
          }
        }
      ]
    },
    {
      "cell_type": "code",
      "source": [
        "# Making predictions using estimated parameters\n",
        "Y_pred = weight*x + bias\n",
        "\n",
        "# Plotting the regression line\n",
        "plt.figure(figsize = (8,6))\n",
        "plt.plot(x,Y_pred)\n",
        "plt.xlabel(\"X\")\n",
        "plt.ylabel(\"Y Pred\")\n",
        "plt.show()"
      ],
      "metadata": {
        "colab": {
          "base_uri": "https://localhost:8080/",
          "height": 389
        },
        "id": "IlVVuS4bnqEy",
        "outputId": "2a504dd7-e7d5-4d47-cdcb-682256f1ee21"
      },
      "execution_count": 5,
      "outputs": [
        {
          "output_type": "display_data",
          "data": {
            "text/plain": [
              "<Figure size 576x432 with 1 Axes>"
            ],
            "image/png": "[encoded data removed]"
          },
          "metadata": {
            "needs_background": "light"
          }
        }
      ]
    }
  ]
}