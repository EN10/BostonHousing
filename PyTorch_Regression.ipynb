{
  "nbformat": 4,
  "nbformat_minor": 0,
  "metadata": {
    "colab": {
      "provenance": []
    },
    "kernelspec": {
      "name": "python3",
      "display_name": "Python 3"
    },
    "language_info": {
      "name": "python"
    },
    "accelerator": "GPU",
    "gpuClass": "standard"
  },
  "cells": [
    {
      "cell_type": "markdown",
      "source": [
        "* [Linear Regression using PyTorch](https://www.geeksforgeeks.org/linear-regression-using-pytorch)"
      ],
      "metadata": {
        "id": "ngfgMo-NuLIX"
      }
    },
    {
      "cell_type": "code",
      "execution_count": null,
      "metadata": {
        "id": "yjZMH2tbz_Z8"
      },
      "outputs": [],
      "source": [
        "# Importing Data\n",
        "from sklearn.datasets import load_boston\n",
        "boston = load_boston()\n",
        "\n",
        "from IPython.display import clear_output\n",
        "clear_output()\n",
        "\n",
        "import torch\n",
        "rooms = torch.Tensor(boston.data[:,5])\n",
        "price = torch.Tensor(boston.target)"
      ]
    },
    {
      "cell_type": "code",
      "source": [
        "# define model\n",
        "class LinearRegressionModel(torch.nn.Module):\n",
        " \n",
        "    def __init__(self):\n",
        "        super(LinearRegressionModel, self).__init__()\n",
        "        self.linear = torch.nn.Linear(1, 1)  # One in and one out\n",
        " \n",
        "    def forward(self, x):\n",
        "        y_pred = self.linear(x)\n",
        "        return y_pred\n",
        " \n",
        "# our model\n",
        "model = LinearRegressionModel()"
      ],
      "metadata": {
        "id": "TBfDKJ4wswAG"
      },
      "execution_count": null,
      "outputs": []
    },
    {
      "cell_type": "code",
      "source": [
        "# define loss and optim (how weights are updated)\n",
        "criterion = torch.nn.MSELoss()\n",
        "optimizer = torch.optim.SGD(model.parameters(), lr = 0.01)"
      ],
      "metadata": {
        "id": "i-m1fltQrKMh"
      },
      "execution_count": null,
      "outputs": []
    },
    {
      "cell_type": "code",
      "source": [
        "for epoch in range(5000):\n",
        " \n",
        "    # Forward pass: Compute predicted y by passing x to the model\n",
        "    # unsqueeze(-1): mat1 and mat2 shapes cannot be multiplied (1x506 and 1x1)\n",
        "    pred_y = model(rooms.unsqueeze(-1))\n",
        " \n",
        "    # Compute and print loss\n",
        "    # squeeze(1): Using a target size (torch.Size([506])) that is different to the input size (torch.Size([506, 1])).\n",
        "    loss = criterion(pred_y.squeeze(1), price)\n",
        " \n",
        "    # Zero gradients, perform a backward pass, and update the weights.\n",
        "    optimizer.zero_grad()\n",
        "    loss.backward()\n",
        "    optimizer.step()\n",
        "    if epoch % 100 == 0:  print('epoch {}, loss {}'.format(epoch, loss.item())) "
      ],
      "metadata": {
        "colab": {
          "base_uri": "https://localhost:8080/"
        },
        "id": "Hqrzh0kGpHj0",
        "outputId": "f2a3324e-ce1c-4aca-846c-a188cd8b78ad"
      },
      "execution_count": null,
      "outputs": [
        {
          "output_type": "stream",
          "name": "stdout",
          "text": [
            "epoch 0, loss 607.302734375\n",
            "epoch 100, loss 58.39958953857422\n",
            "epoch 200, loss 57.70460510253906\n",
            "epoch 300, loss 57.0422477722168\n",
            "epoch 400, loss 56.4110107421875\n",
            "epoch 500, loss 55.80940246582031\n",
            "epoch 600, loss 55.23605728149414\n",
            "epoch 700, loss 54.689632415771484\n",
            "epoch 800, loss 54.16887283325195\n",
            "epoch 900, loss 53.67256164550781\n",
            "epoch 1000, loss 53.199562072753906\n",
            "epoch 1100, loss 52.748779296875\n",
            "epoch 1200, loss 52.31916046142578\n",
            "epoch 1300, loss 51.909725189208984\n",
            "epoch 1400, loss 51.51951217651367\n",
            "epoch 1500, loss 51.14762878417969\n",
            "epoch 1600, loss 50.7932014465332\n",
            "epoch 1700, loss 50.45541763305664\n",
            "epoch 1800, loss 50.13350296020508\n",
            "epoch 1900, loss 49.82670593261719\n",
            "epoch 2000, loss 49.5343132019043\n",
            "epoch 2100, loss 49.255653381347656\n",
            "epoch 2200, loss 48.99007797241211\n",
            "epoch 2300, loss 48.73698043823242\n",
            "epoch 2400, loss 48.495765686035156\n",
            "epoch 2500, loss 48.2658805847168\n",
            "epoch 2600, loss 48.04678726196289\n",
            "epoch 2700, loss 47.837982177734375\n",
            "epoch 2800, loss 47.638980865478516\n",
            "epoch 2900, loss 47.44932556152344\n",
            "epoch 3000, loss 47.268585205078125\n",
            "epoch 3100, loss 47.09632873535156\n",
            "epoch 3200, loss 46.932167053222656\n",
            "epoch 3300, loss 46.77571105957031\n",
            "epoch 3400, loss 46.62659454345703\n",
            "epoch 3500, loss 46.48448944091797\n",
            "epoch 3600, loss 46.34904861450195\n",
            "epoch 3700, loss 46.21997833251953\n",
            "epoch 3800, loss 46.096961975097656\n",
            "epoch 3900, loss 45.97972869873047\n",
            "epoch 4000, loss 45.86799240112305\n",
            "epoch 4100, loss 45.761512756347656\n",
            "epoch 4200, loss 45.6600341796875\n",
            "epoch 4300, loss 45.56332015991211\n",
            "epoch 4400, loss 45.47114181518555\n",
            "epoch 4500, loss 45.3832893371582\n",
            "epoch 4600, loss 45.2995719909668\n",
            "epoch 4700, loss 45.219783782958984\n",
            "epoch 4800, loss 45.143741607666016\n",
            "epoch 4900, loss 45.07126998901367\n"
          ]
        }
      ]
    },
    {
      "cell_type": "code",
      "source": [
        "test_rooms = torch.Tensor([8.0])\n",
        "pred_y = model(test_rooms)\n",
        "print(pred_y.item())"
      ],
      "metadata": {
        "colab": {
          "base_uri": "https://localhost:8080/"
        },
        "id": "82kkiQoos38s",
        "outputId": "7f5ea31b-2d71-4dcf-8b71-b85b9ae725e0"
      },
      "execution_count": null,
      "outputs": [
        {
          "output_type": "stream",
          "name": "stdout",
          "text": [
            "35.398258209228516\n"
          ]
        }
      ]
    },
    {
      "cell_type": "code",
      "source": [
        "import matplotlib.pyplot as plt\n",
        "plt.figure(figsize=(10,10))\n",
        "plt.scatter(rooms,price)\n",
        "\n",
        "#add line of best fit to plot\n",
        "neuron = model.linear.state_dict()\n",
        "plt.plot(rooms, neuron['weight'].item() * rooms + neuron['bias'].item(), '-r')"
      ],
      "metadata": {
        "colab": {
          "base_uri": "https://localhost:8080/",
          "height": 609
        },
        "id": "VwjNR6l1ni-R",
        "outputId": "db992523-997f-4e93-cc8c-5383c6a3483a"
      },
      "execution_count": null,
      "outputs": [
        {
          "output_type": "execute_result",
          "data": {
            "text/plain": [
              "[<matplotlib.lines.Line2D at 0x7fe0839eb110>]"
            ]
          },
          "metadata": {},
          "execution_count": 6
        },
        {
          "output_type": "display_data",
          "data": {
            "text/plain": [
              "<Figure size 720x720 with 1 Axes>"
            ],
            "image/png": "[encoded data removed]"
          },
          "metadata": {
            "needs_background": "light"
          }
        }
      ]
    }
  ]
}