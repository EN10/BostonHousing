{
  "nbformat": 4,
  "nbformat_minor": 0,
  "metadata": {
    "colab": {
      "provenance": [],
      "authorship_tag": "ABX9TyOR9gBtWvQCVJJ87qUnokoo",
      "include_colab_link": true
    },
    "kernelspec": {
      "name": "python3",
      "display_name": "Python 3"
    },
    "language_info": {
      "name": "python"
    }
  },
  "cells": [
    {
      "cell_type": "markdown",
      "metadata": {
        "id": "view-in-github",
        "colab_type": "text"
      },
      "source": [
        "<a href=\"https://colab.research.google.com/github/eniompw/BostonHousing/blob/main/Gradient_Descent_from_Scratch.ipynb\" target=\"_parent\"><img src=\"https://colab.research.google.com/assets/colab-badge.svg\" alt=\"Open In Colab\"/></a>"
      ]
    },
    {
      "cell_type": "markdown",
      "source": [
        "[Geeks for Geeks](https://www.geeksforgeeks.org/how-to-implement-a-gradient-descent-in-python-to-find-a-local-minimum)"
      ],
      "metadata": {
        "id": "tKbBBn80oCcp"
      }
    },
    {
      "cell_type": "code",
      "source": [
        "# Importing Libraries\n",
        "import numpy as np\n",
        "\n",
        "# Data\n",
        "x = np.arange(100)\n",
        "y = 2*x + 1\n",
        "\n",
        "# Print first 10 values\n",
        "print(x[:10])\n",
        "print(y[:10])\n",
        "\n",
        "def mean_squared_error(y_true, y_predicted):\n",
        "\t# Calculating the loss or cost\n",
        "\tcost = np.sum((y_true-y_predicted)**2) / len(y_true)\n",
        "\treturn cost"
      ],
      "metadata": {
        "colab": {
          "base_uri": "https://localhost:8080/"
        },
        "id": "uOCsrp78oKNh",
        "outputId": "ebaf6810-808e-4b66-ca55-f3ca090ed431"
      },
      "execution_count": 15,
      "outputs": [
        {
          "output_type": "stream",
          "name": "stdout",
          "text": [
            "[0 1 2 3 4 5 6 7 8 9]\n",
            "[ 1  3  5  7  9 11 13 15 17 19]\n"
          ]
        }
      ]
    },
    {
      "cell_type": "code",
      "execution_count": 11,
      "metadata": {
        "colab": {
          "base_uri": "https://localhost:8080/"
        },
        "id": "8DBxS6Ogip9t",
        "outputId": "c5cbf817-17a0-457b-e268-e12d276be55d"
      },
      "outputs": [
        {
          "output_type": "stream",
          "name": "stdout",
          "text": [
            "Estimated Weight: 2.0137736484862407\n",
            "Estimated Bias: 0.08641858028349568\n"
          ]
        }
      ],
      "source": [
        "# Gradient Descent Function\n",
        "# Initializing weight, bias, learning rate and iterations\n",
        "weight = 0.1\n",
        "bias = 0.01\n",
        "iterations = 1000\n",
        "learning_rate = 0.0001\n",
        "n = float(len(x))\n",
        "\n",
        "costs = []\n",
        "weights = []\n",
        "previous_cost = None\n",
        "\n",
        "# Estimation of optimal parameters\n",
        "for i in range(iterations):\n",
        "  \n",
        "  # Making predictions\n",
        "  y_predicted = (weight * x) + bias\n",
        "  \n",
        "  # Calculating the current cost\n",
        "  current_cost = mean_squared_error(y, y_predicted)\n",
        "  previous_cost = current_cost\n",
        "  costs.append(current_cost)\n",
        "  weights.append(weight)\n",
        "  \n",
        "  # Calculating the gradients\n",
        "  weight_derivative = -(2/n) * sum(x * (y-y_predicted))\n",
        "  bias_derivative = -(2/n) * sum(y-y_predicted)\n",
        "  \n",
        "  # Updating weights and bias\n",
        "  weight = weight - (learning_rate * weight_derivative)\n",
        "  bias = bias - (learning_rate * bias_derivative)\n",
        "\n",
        "# Estimating weight and bias using gradient descent\n",
        "print(f\"Estimated Weight: {weight}\\nEstimated Bias: {bias}\")"
      ]
    },
    {
      "cell_type": "code",
      "source": [
        "# Visualizing the weights and cost at for all iterations\n",
        "import matplotlib.pyplot as plt\n",
        "plt.figure(figsize = (8,6))\n",
        "plt.plot(weights, costs)\n",
        "#plt.scatter(weights, costs, marker='o', color='red')\n",
        "plt.title(\"Cost vs Weights\")\n",
        "plt.ylabel(\"Cost\")\n",
        "plt.xlabel(\"Weight\")\n",
        "plt.show()"
      ],
      "metadata": {
        "colab": {
          "base_uri": "https://localhost:8080/",
          "height": 404
        },
        "id": "i6MLWBxrnBK8",
        "outputId": "27fa432c-6717-4b98-bdac-efb570d6566d"
      },
      "execution_count": 7,
      "outputs": [
        {
          "output_type": "display_data",
          "data": {
            "text/plain": [
              "<Figure size 576x432 with 1 Axes>"
            ],
            "image/png": "[encoded data removed]"
          },
          "metadata": {
            "needs_background": "light"
          }
        }
      ]
    },
    {
      "cell_type": "code",
      "source": [
        "# Making predictions using estimated parameters\n",
        "Y_pred = weight*x + bias\n",
        "\n",
        "# Plotting the regression line\n",
        "plt.figure(figsize = (8,6))\n",
        "plt.plot([min(x), max(x)], [min(Y_pred), max(Y_pred)], color='blue',markerfacecolor='red',\n",
        "          markersize=10,linestyle='dashed')\n",
        "plt.xlabel(\"X\")\n",
        "plt.ylabel(\"Y\")\n",
        "plt.show()"
      ],
      "metadata": {
        "colab": {
          "base_uri": "https://localhost:8080/",
          "height": 388
        },
        "id": "IlVVuS4bnqEy",
        "outputId": "2b90fbef-8fa3-441d-d3f7-f2b408c1f971"
      },
      "execution_count": 8,
      "outputs": [
        {
          "output_type": "display_data",
          "data": {
            "text/plain": [
              "<Figure size 576x432 with 1 Axes>"
            ],
            "image/png": "[encoded data removed]"
          },
          "metadata": {
            "needs_background": "light"
          }
        }
      ]
    }
  ]
}