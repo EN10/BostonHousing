{
  "nbformat": 4,
  "nbformat_minor": 0,
  "metadata": {
    "colab": {
      "provenance": []
    },
    "kernelspec": {
      "name": "python3",
      "display_name": "Python 3"
    },
    "language_info": {
      "name": "python"
    }
  },
  "cells": [
    {
      "cell_type": "markdown",
      "source": [
        "* [Regression from Scratch Example](https://www.kaggle.com/code/aakashns/pytorch-basics-linear-regression-from-scratch)"
      ],
      "metadata": {
        "id": "HyExCmX_0xhn"
      }
    },
    {
      "cell_type": "code",
      "execution_count": 1,
      "metadata": {
        "id": "yjZMH2tbz_Z8",
        "colab": {
          "base_uri": "https://localhost:8080/"
        },
        "outputId": "589f6018-9ba7-4f74-e1fb-54597cb9ac86"
      },
      "outputs": [
        {
          "output_type": "stream",
          "name": "stdout",
          "text": [
            ".. _boston_dataset:\n",
            "\n",
            "Boston house prices dataset\n",
            "---------------------------\n",
            "\n",
            "**Data Set Characteristics:**  \n",
            "\n",
            "    :Number of Instances: 506 \n",
            "\n",
            "    :Number of Attributes: 13 numeric/categorical predictive. Median Value (attribute 14) is usually the target.\n",
            "\n",
            "    :Attribute Information (in order):\n",
            "        - CRIM     per capita crime rate by town\n",
            "        - ZN       proportion of residential land zoned for lots over 25,000 sq.ft.\n",
            "        - INDUS    proportion of non-retail business acres per town\n",
            "        - CHAS     Charles River dummy variable (= 1 if tract bounds river; 0 otherwise)\n",
            "        - NOX      nitric oxides concentration (parts per 10 million)\n",
            "        - RM       average number of rooms per dwelling\n",
            "        - AGE      proportion of owner-occupied units built prior to 1940\n",
            "        - DIS      weighted distances to five Boston employment centres\n",
            "        - RAD      index of accessibility to radial highways\n",
            "        - TAX      full-value property-tax rate per $10,000\n",
            "        - PTRATIO  pupil-teacher ratio by town\n",
            "        - B        1000(Bk - 0.63)^2 where Bk is the proportion of black people by town\n",
            "        - LSTAT    % lower status of the population\n",
            "        - MEDV     Median value of owner-occupied homes in $1000's\n",
            "\n",
            "    :Missing Attribute Values: None\n",
            "\n",
            "    :Creator: Harrison, D. and Rubinfeld, D.L.\n",
            "\n",
            "This is a copy of UCI ML housing dataset.\n",
            "https://archive.ics.uci.edu/ml/machine-learning-databases/housing/\n",
            "\n",
            "\n",
            "This dataset was taken from the StatLib library which is maintained at Carnegie Mellon University.\n",
            "\n",
            "The Boston house-price data of Harrison, D. and Rubinfeld, D.L. 'Hedonic\n",
            "prices and the demand for clean air', J. Environ. Economics & Management,\n",
            "vol.5, 81-102, 1978.   Used in Belsley, Kuh & Welsch, 'Regression diagnostics\n",
            "...', Wiley, 1980.   N.B. Various transformations are used in the table on\n",
            "pages 244-261 of the latter.\n",
            "\n",
            "The Boston house-price data has been used in many machine learning papers that address regression\n",
            "problems.   \n",
            "     \n",
            ".. topic:: References\n",
            "\n",
            "   - Belsley, Kuh & Welsch, 'Regression diagnostics: Identifying Influential Data and Sources of Collinearity', Wiley, 1980. 244-261.\n",
            "   - Quinlan,R. (1993). Combining Instance-Based and Model-Based Learning. In Proceedings on the Tenth International Conference of Machine Learning, 236-243, University of Massachusetts, Amherst. Morgan Kaufmann.\n",
            "\n"
          ]
        }
      ],
      "source": [
        "# Importing Data\n",
        "from sklearn.datasets import load_boston\n",
        "boston = load_boston()\n",
        "\n",
        "from IPython.display import clear_output\n",
        "clear_output()\n",
        "print(boston.DESCR)"
      ]
    },
    {
      "cell_type": "code",
      "source": [
        "# Input RM rooms attribute, columm 5\n",
        "inputs = boston.data[:,5]\n",
        "\n",
        "# Target is price\n",
        "targets = boston.target"
      ],
      "metadata": {
        "id": "HTsE0xlm40l5"
      },
      "execution_count": 2,
      "outputs": []
    },
    {
      "cell_type": "code",
      "source": [
        "# Weights and biases price = w * (rooms) + b\n",
        "import random\n",
        "w = random.random()\n",
        "b = random.random()\n",
        "\n",
        "# Define the model: w * x + b\n",
        "def model_pred(x):\n",
        "  return w * x + b"
      ],
      "metadata": {
        "id": "u8pLVeWA1Auo"
      },
      "execution_count": 3,
      "outputs": []
    },
    {
      "cell_type": "code",
      "source": [
        "# Mean square error\n",
        "def mse(t1, t2):\n",
        "    diff = t1 - t2\n",
        "    return sum(diff * diff) / len(diff)"
      ],
      "metadata": {
        "id": "MQNaeohALQ2Y"
      },
      "execution_count": 4,
      "outputs": []
    },
    {
      "cell_type": "code",
      "source": [
        "def update_parameters(x,y):\n",
        "  # Calculating gradients\n",
        "  w_grad = -2 * x * (y - model_pred(x))\n",
        "  b_grad = -2 * y - model_pred(x)\n",
        "  \n",
        "  # Update Model parameters\n",
        "  global w, b\n",
        "  w -= w_grad * 1e-5\n",
        "  b -= b_grad * 1e-5"
      ],
      "metadata": {
        "id": "jN0-Y3-f2v4l"
      },
      "execution_count": 5,
      "outputs": []
    },
    {
      "cell_type": "markdown",
      "source": [
        "* [Gradient descent in Python](https://www.geeksforgeeks.org/how-to-implement-a-gradient-descent-in-python-to-find-a-local-minimum/)\n",
        "* [Derivative Calculation](https://towardsdatascience.com/gradient-descent-from-scratch-e8b75fa986cc)"
      ],
      "metadata": {
        "id": "lNMSPdtCvBlG"
      }
    },
    {
      "cell_type": "code",
      "source": [
        "# Train for 10 epochs\n",
        "for i in range(10):\n",
        "  # 1 epoch = train through all the data once\n",
        "  for j in range(506):\n",
        "    # Select a rooms data point\n",
        "    rooms = inputs[j]\n",
        "    # Make prediction\n",
        "    pred = model_pred(rooms)\n",
        "    # Measure loss\n",
        "    loss = mse(pred, targets)\n",
        "    # Update model\n",
        "    update_parameters(rooms,targets[j])\n",
        "  print('loss:' , loss)"
      ],
      "metadata": {
        "colab": {
          "base_uri": "https://localhost:8080/"
        },
        "id": "rp8eucPMLSp9",
        "outputId": "b1273a68-137e-40b8-ee55-4a5d1b2cf8e5"
      },
      "execution_count": 6,
      "outputs": [
        {
          "output_type": "stream",
          "name": "stdout",
          "text": [
            "loss: 258.4981029217168\n",
            "loss: 161.85666174022404\n",
            "loss: 118.61967517840687\n",
            "loss: 99.34443770220905\n",
            "loss: 90.80379820401211\n",
            "loss: 87.05930406017174\n",
            "loss: 85.44797562235526\n",
            "loss: 84.778139849107\n",
            "loss: 84.51845209568266\n",
            "loss: 84.43346277006276\n"
          ]
        }
      ]
    },
    {
      "cell_type": "code",
      "source": [
        "# Prediction\n",
        "rooms = 6.0\n",
        "input = rooms\n",
        "price = model_pred(input)\n",
        "print('price:' , price)  "
      ],
      "metadata": {
        "id": "zQufYtBaMSqS",
        "colab": {
          "base_uri": "https://localhost:8080/"
        },
        "outputId": "946d4a01-1641-4829-a22b-7be1923652e5"
      },
      "execution_count": 7,
      "outputs": [
        {
          "output_type": "stream",
          "name": "stdout",
          "text": [
            "price: 22.312424429534556\n"
          ]
        }
      ]
    }
  ]
}
